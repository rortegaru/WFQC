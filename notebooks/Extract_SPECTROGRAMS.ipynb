{
 "cells": [
  {
   "cell_type": "markdown",
   "id": "d7d63527-e75c-421f-b57a-924202357048",
   "metadata": {},
   "source": [
    "# Notebook for Predicting WFQC"
   ]
  },
  {
   "cell_type": "markdown",
   "id": "667be78a-e5a8-4240-b45e-96ef806c5991",
   "metadata": {},
   "source": [
    "Import the modules"
   ]
  },
  {
   "cell_type": "code",
   "execution_count": 1,
   "id": "02184d91-6d8f-49e0-9f25-0dc4fd31bd92",
   "metadata": {},
   "outputs": [],
   "source": [
    "import pandas as pd\n",
    "from datetime import datetime, timedelta\n",
    "import glob\n",
    "import os\n",
    "import wave\n",
    "import pylab\n",
    "#from matplotlib import plt\n",
    "import matplotlib.pyplot as plt\n",
    "from joblib import Parallel, delayed\n",
    "import multiprocessing\n",
    "import gc\n",
    "import random\n",
    "from obspy.core import read, UTCDateTime"
   ]
  },
  {
   "cell_type": "markdown",
   "id": "1bfa346a-67f8-41c1-9692-69bc115188a5",
   "metadata": {},
   "source": [
    "Directories setup"
   ]
  },
  {
   "cell_type": "code",
   "execution_count": 2,
   "id": "f9318417-096d-410f-8da5-98f3651a5115",
   "metadata": {},
   "outputs": [],
   "source": [
    "current_dir = \"/home/roberto/notebooks/WFQCMODEL/\"\n",
    "data_dir = current_dir + \"Data/\"\n",
    "seism_dir = '/home/roberto/notebooks/DATAFIL/'\n",
    "output_spectrogram_dir = data_dir + \"Extracted_Spectrogram_Full_Analysis/\" \n"
   ]
  },
  {
   "cell_type": "code",
   "execution_count": 3,
   "id": "94cd3e04-ae67-4a21-9094-c1389d6934e5",
   "metadata": {},
   "outputs": [],
   "source": [
    "if not os.path.exists(output_spectrogram_dir):\n",
    "    os.makedirs(output_spectrogram_dir)\n"
   ]
  },
  {
   "cell_type": "code",
   "execution_count": 4,
   "id": "723432fb-7aec-4d8a-bc7f-f7fa3519b7d2",
   "metadata": {},
   "outputs": [],
   "source": [
    "seis_filenames = glob.glob(seism_dir + '/????')"
   ]
  },
  {
   "cell_type": "markdown",
   "id": "c11666f0-939a-4176-97c5-d591b647b37a",
   "metadata": {},
   "source": [
    "Preparing the DataFrame"
   ]
  },
  {
   "cell_type": "code",
   "execution_count": 5,
   "id": "db1c1dbb-c306-4521-8588-5c800dbced46",
   "metadata": {},
   "outputs": [],
   "source": [
    "new_list=[]\n",
    "i=1\n",
    "for subs in seis_filenames:\n",
    "    new2=os.path.basename(subs)\n",
    "    velfil=glob.glob(subs+'/*.vel')\n",
    "    for file in velfil:\n",
    "        sub=os.path.basename(file)\n",
    "        cont=os.path.dirname(file)\n",
    "#\n",
    "        last=os.path.basename(cont)\n",
    "        new_list.append([i,sub,last])\n",
    "        i=i+1"
   ]
  },
  {
   "cell_type": "code",
   "execution_count": 6,
   "id": "3ff43228-9ffa-4c85-870e-fda5948e51d0",
   "metadata": {},
   "outputs": [],
   "source": [
    "df = pd.DataFrame(new_list, columns =['Num', 'Waveform','Sub']) "
   ]
  },
  {
   "cell_type": "markdown",
   "id": "a49ed12a-97f3-462b-af51-a23afe667ff6",
   "metadata": {},
   "source": [
    "Plot a spectrogra using OBSPY"
   ]
  },
  {
   "cell_type": "code",
   "execution_count": 7,
   "id": "9c2c0cfb-e7e3-4915-a6bd-de34b558315c",
   "metadata": {},
   "outputs": [],
   "source": [
    "def graph_spectrogram(wav_file, sub, serial):\n",
    "#    fig=pyplot.figure(num=None, figsize=(19, 12))   \n",
    "#    ax = pyplot.axes()\n",
    "#    ax.set_axis_off()\n",
    "    st = read(wav_file)\n",
    "    tr=st[0]\n",
    "    tr.normalize()\n",
    "    fig = plt.figure()\n",
    "    #ax = plt.Axes(fig,[0.,0.,.8,.8])\n",
    "    ax = plt.Axes(fig,[0.1, 0.1, 0.7, 0.6])\n",
    "    ax.set_axis_off()\n",
    "    fig.add_axes(ax)\n",
    "    ax.set_axis_off() \n",
    "    begin_TimeStamp=tr.stats.starttime\n",
    "    audio_begin_TimeStamp=str(begin_TimeStamp.year)+'-'+str(begin_TimeStamp.month)+'-'+str(begin_TimeStamp.day)+'T'+str(begin_TimeStamp.hour)+'-'+str(begin_TimeStamp.minute)\n",
    "    start_second=str(begin_TimeStamp.second)\n",
    "    filename=output_spectrogram_dir + serial + '-' + audio_begin_TimeStamp + '-' + str(start_second)  + '.png'\n",
    "#    print(filename)\n",
    "    fig = tr.spectrogram(show=False,axes=ax)\n",
    "#   # filename=output_spectrogram_dir+\"AAA\"+\".png\"\n",
    "    plt.savefig(filename)\n",
    "    plt.close()\n",
    " \n"
   ]
  },
  {
   "cell_type": "code",
   "execution_count": 8,
   "id": "20a41c6b-4e21-46f9-843a-c0b0aa63f762",
   "metadata": {},
   "outputs": [],
   "source": [
    "def generate_spectrogram(i):\n",
    "    try:\n",
    "        Filenam = df.loc[i, 'Waveform'] \n",
    "        Sub = df.loc[i, 'Sub']\n",
    "        Fileall=seism_dir+Sub+'/'+Filenam\n",
    "        serial,comp,ty=Filenam.split('.')\n",
    "        serial=serial+'_'+comp+'_'+Sub+'_' \n",
    "#        print([serial,Sub,Fileall])\n",
    "        return graph_spectrogram(Fileall,Sub,serial)\n",
    "    except:\n",
    "        pass"
   ]
  },
  {
   "cell_type": "markdown",
   "id": "15fc49a3-f899-41a8-a546-0f2758cd57ae",
   "metadata": {},
   "source": [
    "Parallel multiprocess for creating spectrograms in the Output_spectrogram folder"
   ]
  },
  {
   "cell_type": "code",
   "execution_count": 9,
   "id": "9381c73c-b48c-4753-9bca-3e829b14b015",
   "metadata": {},
   "outputs": [],
   "source": [
    "num_cores = multiprocessing.cpu_count()"
   ]
  },
  {
   "cell_type": "code",
   "execution_count": 10,
   "id": "22efe234-1ad3-4967-b145-1c60c822b9bb",
   "metadata": {},
   "outputs": [],
   "source": [
    "output_spectrogram_dir = data_dir + \"Extracted_Spectrogram_Full_Analysis/\""
   ]
  },
  {
   "cell_type": "code",
   "execution_count": 11,
   "id": "b204496e-2be8-420b-bd87-47faba26ec9f",
   "metadata": {},
   "outputs": [],
   "source": [
    "spectrograms = Parallel(n_jobs=num_cores)(delayed(generate_spectrogram)(i) for i in (range(len(df))))"
   ]
  },
  {
   "cell_type": "code",
   "execution_count": null,
   "id": "a6e092b6-0294-459a-a93a-faffe5b42ca9",
   "metadata": {},
   "outputs": [],
   "source": []
  }
 ],
 "metadata": {
  "kernelspec": {
   "display_name": "py38_tensorflow",
   "language": "python",
   "name": "conda-env-py38_tensorflow-py"
  },
  "language_info": {
   "codemirror_mode": {
    "name": "ipython",
    "version": 3
   },
   "file_extension": ".py",
   "mimetype": "text/x-python",
   "name": "python",
   "nbconvert_exporter": "python",
   "pygments_lexer": "ipython3",
   "version": "3.8.10"
  }
 },
 "nbformat": 4,
 "nbformat_minor": 5
}
