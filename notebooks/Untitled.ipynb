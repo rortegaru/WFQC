{
 "cells": [
  {
   "cell_type": "code",
   "execution_count": 1,
   "id": "2b50ad9b-b270-4c78-83ff-8bce5301cd47",
   "metadata": {},
   "outputs": [],
   "source": [
    "import pandas as pd\n",
    "import numpy as np\n",
    "import glob\n",
    "import os\n",
    "import cv2\n",
    "from tensorflow.keras.models import model_from_json\n"
   ]
  },
  {
   "cell_type": "code",
   "execution_count": 2,
   "id": "4f7e4622-d4db-4d5d-b0d1-2f43831f27c7",
   "metadata": {},
   "outputs": [],
   "source": [
    "current_dir = \"/INGVDATA/WFQC/\"\n",
    "model_dir = current_dir + \"Model/\"\n",
    "data_dir = current_dir + \"Data/\"\n",
    "spectrogram_dir = data_dir + \"Extracted_Spectrogram_Full_Analysis/\" \n",
    "output_dir = current_dir + \"Output/\""
   ]
  },
  {
   "cell_type": "code",
   "execution_count": 3,
   "id": "7b42bfc6-da03-4e34-9d5c-98cef90ec611",
   "metadata": {},
   "outputs": [],
   "source": [
    "if not os.path.exists(output_dir):\n",
    "    os.makedirs(output_dir)"
   ]
  },
  {
   "cell_type": "code",
   "execution_count": 4,
   "id": "370eb593-3ce5-4089-af62-660091dee794",
   "metadata": {},
   "outputs": [],
   "source": [
    "spectrogram_filenames = glob.glob(spectrogram_dir + '/*.png')"
   ]
  },
  {
   "cell_type": "code",
   "execution_count": 5,
   "id": "d61695ee-23d6-4c11-b1e3-5e86ecaefa04",
   "metadata": {},
   "outputs": [
    {
     "name": "stderr",
     "output_type": "stream",
     "text": [
      "2021-11-09 22:04:25.804109: E tensorflow/stream_executor/cuda/cuda_driver.cc:271] failed call to cuInit: CUDA_ERROR_NO_DEVICE: no CUDA-capable device is detected\n",
      "2021-11-09 22:04:25.804188: I tensorflow/stream_executor/cuda/cuda_diagnostics.cc:156] kernel driver does not appear to be running on this host (geoaidmax): /proc/driver/nvidia/version does not exist\n",
      "2021-11-09 22:04:25.804981: I tensorflow/core/platform/cpu_feature_guard.cc:142] This TensorFlow binary is optimized with oneAPI Deep Neural Network Library (oneDNN) to use the following CPU instructions in performance-critical operations:  SSE4.1 SSE4.2 AVX AVX2 AVX512F FMA\n",
      "To enable them in other operations, rebuild TensorFlow with the appropriate compiler flags.\n"
     ]
    }
   ],
   "source": [
    "with open(model_dir + 'cnn_architecture_all_data.json', 'r') as f:\n",
    "    model_cnn = model_from_json(f.read())\n",
    "model_cnn.load_weights(model_dir + 'cnn_weights_all_data.h5')\n",
    "\n",
    "with open(model_dir + 'vgg16_architecture_all_data.json', 'r') as f:\n",
    "    model_vgg16 = model_from_json(f.read())\n",
    "model_vgg16.load_weights(model_dir + 'vgg16_weights_all_data.h5')\n",
    "\n",
    "with open(model_dir + 'ResNet50_architecture_all_data.json', 'r') as f:\n",
    "    model_ResNet50 = model_from_json(f.read())\n",
    "model_ResNet50.load_weights(model_dir + 'ResNet50_weights_all_data.h5')\n",
    "\n",
    "with open(model_dir + 'DenseNet121_architecture_all_data.json', 'r') as f:\n",
    "    model_DenseNet121 = model_from_json(f.read())\n",
    "model_DenseNet121.load_weights(model_dir + 'DenseNet121_weights_all_data.h5')\n",
    "\n"
   ]
  },
  {
   "cell_type": "code",
   "execution_count": 6,
   "id": "fef3722c-d22e-4b62-b789-62c826c26c9e",
   "metadata": {},
   "outputs": [],
   "source": [
    "ncol, nrow = 300, 300\n",
    "\n",
    "full_analysis_score = pd.DataFrame()\n",
    "full_analysis_score['spectrogram_filename'] = spectrogram_filenames\n",
    "full_analysis_score['waveform_filename'] = ''\n",
    "full_analysis_score['spectrogram_start_second'] = ''\n",
    "full_analysis_score['predicted_probability'] = 0.0\n"
   ]
  },
  {
   "cell_type": "code",
   "execution_count": 7,
   "id": "037015c1-2549-4b90-9f96-f1b7f499815c",
   "metadata": {},
   "outputs": [],
   "source": [
    "opt_weights = pd.read_excel(output_dir + 'opt_weights.xlsx', header = None, engine='openpyxl')[0].values.tolist()\n"
   ]
  },
  {
   "cell_type": "code",
   "execution_count": 8,
   "id": "fa5fadb6-ea11-4dcd-b615-a3f47a44a1cb",
   "metadata": {},
   "outputs": [
    {
     "name": "stdout",
     "output_type": "stream",
     "text": [
      "[0.2535064697265625, 0.2530548095703125, 0.233355712890625, 0.2600830078125]\n"
     ]
    }
   ],
   "source": [
    "print(opt_weights)\n"
   ]
  },
  {
   "cell_type": "code",
   "execution_count": null,
   "id": "12c842ff-48a7-45dc-a248-313fea0073dd",
   "metadata": {},
   "outputs": [
    {
     "name": "stdout",
     "output_type": "stream",
     "text": [
      "[0, spectrogram_filename        /INGVDATA/WFQC/Data/Extracted_Spectrogram_Full...\n",
      "waveform_filename                                                            \n",
      "spectrogram_start_second                                                     \n",
      "predicted_probability                                                     0.0\n",
      "Name: 0, dtype: object]\n"
     ]
    },
    {
     "name": "stderr",
     "output_type": "stream",
     "text": [
      "2021-11-09 22:05:03.148093: I tensorflow/compiler/mlir/mlir_graph_optimization_pass.cc:185] None of the MLIR Optimization Passes are enabled (registered 2)\n"
     ]
    }
   ],
   "source": [
    "\n",
    "\n",
    "res_data = []\n",
    "\n",
    "for index, row in full_analysis_score.iterrows():\n",
    "    if (index % 10000 == 0):\n",
    "        print([index,row])\n",
    "    simplefile=os.path.basename(row['spectrogram_filename'])\n",
    "    sta,chan,sub,sti=simplefile.split('_')\n",
    "    stim,ext=sti.split('.')\n",
    "    stim=stim[1:]\n",
    "    #print(stim)\n",
    "    waveform_file=sub+'/'+sta+'.'+chan+'.vel'\n",
    "    #print(waveform_file)\n",
    "    img = cv2.imread(row['spectrogram_filename'])\n",
    "    img = cv2.resize(img, (ncol, nrow))\n",
    "    img_reshaped = []\n",
    "    img_reshaped.append(img)\n",
    "    predict_prob_cnn = model_cnn.predict(np.asarray(img_reshaped) / 255.0).tolist()[0][0]\n",
    "    predict_prob_vgg16 = model_vgg16.predict(np.asarray(img_reshaped) / 255.0).tolist()[0][0]\n",
    "    predict_prob_ResNet50 = model_ResNet50.predict(np.asarray(img_reshaped) / 255.0).tolist()[0][0]\n",
    "    predict_prob_DenseNet121 = model_DenseNet121.predict(np.asarray(img_reshaped) / 255.0).tolist()[0][0]\n",
    "    predicted_probability = sum([x*y for x,y in zip([predict_prob_cnn, predict_prob_vgg16, predict_prob_ResNet50, predict_prob_DenseNet121], opt_weights)]) \n",
    "        ## the opmized weight for each model was computed in previous step\n",
    "    res_data.append([simplefile,waveform_file,stim,predicted_probability])\n"
   ]
  },
  {
   "cell_type": "code",
   "execution_count": null,
   "id": "565b7506-fff4-4c20-b09c-18b7648d8027",
   "metadata": {},
   "outputs": [],
   "source": []
  }
 ],
 "metadata": {
  "kernelspec": {
   "display_name": "wfq2",
   "language": "python",
   "name": "wfq2"
  },
  "language_info": {
   "codemirror_mode": {
    "name": "ipython",
    "version": 3
   },
   "file_extension": ".py",
   "mimetype": "text/x-python",
   "name": "python",
   "nbconvert_exporter": "python",
   "pygments_lexer": "ipython3",
   "version": "3.8.12"
  }
 },
 "nbformat": 4,
 "nbformat_minor": 5
}
